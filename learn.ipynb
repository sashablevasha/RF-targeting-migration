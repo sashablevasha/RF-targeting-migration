{
 "cells": [
  {
   "cell_type": "code",
   "execution_count": 1,
   "id": "441f6884-44ce-4055-bca1-5ca9f242cb12",
   "metadata": {},
   "outputs": [],
   "source": [
    "from src import PPO"
   ]
  },
  {
   "cell_type": "code",
   "execution_count": null,
   "id": "8f9c50d9-d7b3-4e53-8b56-efee77aeff82",
   "metadata": {},
   "outputs": [],
   "source": [
    "ppo=PPO(True,True,False,1e-4,256,42)"
   ]
  },
  {
   "cell_type": "code",
   "execution_count": null,
   "id": "f01d427d-0f44-4eb7-b336-58a9152a60f3",
   "metadata": {},
   "outputs": [],
   "source": [
    "ppo.cycle(121)"
   ]
  },
  {
   "cell_type": "code",
   "execution_count": null,
   "id": "22b5b8bd-88c1-4f33-95a5-1a27a8c717fb",
   "metadata": {},
   "outputs": [],
   "source": [
    "ppo=PPO(True,False,False,1e-4,256,42)"
   ]
  },
  {
   "cell_type": "code",
   "execution_count": null,
   "id": "1023cab5-408a-43df-9ca7-77e2a5f4d9db",
   "metadata": {},
   "outputs": [],
   "source": [
    "ppo.cycle(2001)"
   ]
  }
 ],
 "metadata": {
  "kernelspec": {
   "display_name": "Python 3 (ipykernel)",
   "language": "python",
   "name": "python3"
  },
  "language_info": {
   "codemirror_mode": {
    "name": "ipython",
    "version": 3
   },
   "file_extension": ".py",
   "mimetype": "text/x-python",
   "name": "python",
   "nbconvert_exporter": "python",
   "pygments_lexer": "ipython3",
   "version": "3.10.16"
  }
 },
 "nbformat": 4,
 "nbformat_minor": 5
}
